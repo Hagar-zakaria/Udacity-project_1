{
 "cells": [
  {
   "cell_type": "markdown",
   "id": "fb819758",
   "metadata": {},
   "source": [
    "# Business Understanding"
   ]
  },
  {
   "cell_type": "markdown",
   "id": "8e670986",
   "metadata": {},
   "source": [
    "I will be using Airbnb data for the city of Seattle with the interest of determining where to stay based on many criteria:\n",
    "\n",
    "What are the most popular neighborhoods?\n",
    "\n",
    "What are the most expensive neighborhoods?\n",
    "\n",
    "How much would it cost for a couple per day to stay in Seattle Airbnb homes?\n",
    " \n",
    "The Most Busy time in the year?\n",
    "\n",
    "What are the most common type of Airbnb properties in Seattle?\n",
    "\n",
    "Does the price influence the rating?\n",
    "\n",
    "The most given \"Rating\" ?\n",
    "\n",
    "What other factors affect flat prices?"
   ]
  },
  {
   "cell_type": "markdown",
   "id": "2cc44f9a",
   "metadata": {},
   "source": [
    "# Data Understanding\n",
    " "
   ]
  },
  {
   "cell_type": "markdown",
   "id": "123f44e3",
   "metadata": {},
   "source": [
    "Import required libraris"
   ]
  },
  {
   "cell_type": "code",
   "execution_count": 3,
   "id": "85776148",
   "metadata": {},
   "outputs": [],
   "source": [
    "import numpy as np\n",
    "import pandas as pd\n",
    "import matplotlib.pyplot as plt\n",
    "from sklearn.linear_model import LinearRegression\n",
    "from sklearn.model_selection import train_test_split\n",
    "from sklearn.ensemble import RandomForestRegressor\n",
    "from sklearn.metrics import r2_score, mean_squared_error\n",
    "import seaborn as sns\n",
    "from collections import defaultdict\n",
    "from sklearn.feature_selection import SelectKBest\n",
    "from sklearn.feature_selection import f_regression\n",
    "import math\n",
    "%matplotlib inline\n",
    "\n",
    "\n",
    "listing = pd.read_csv('listings.csv')\n",
    "review = pd.read_csv('reviews.csv')\n",
    "calendar = pd.read_csv('calendar.csv')"
   ]
  },
  {
   "cell_type": "code",
   "execution_count": 4,
   "id": "9eef7d79",
   "metadata": {},
   "outputs": [
    {
     "name": "stdout",
     "output_type": "stream",
     "text": [
      "listings dataset has 3818 records and 92 columns\n",
      "calendar dataset has 1393570 records and  4 columns\n",
      "reviews dataset has 84849 records and  6 columns\n"
     ]
    }
   ],
   "source": [
    "print(\"listings dataset has %2d records and %2d columns\" %(listing.shape[0],listing.shape[1]))\n",
    "print(\"calendar dataset has %2d records and %2d columns\" %(calendar.shape[0],calendar.shape[1]))\n",
    "print(\"reviews dataset has %2d records and %2d columns\" %(review.shape[0],review.shape[1]))"
   ]
  },
  {
   "cell_type": "markdown",
   "id": "6c2d489b",
   "metadata": {},
   "source": [
    "Missing values\n"
   ]
  },
  {
   "cell_type": "code",
   "execution_count": 5,
   "id": "5292eaae",
   "metadata": {},
   "outputs": [
    {
     "name": "stdout",
     "output_type": "stream",
     "text": [
      "45\n"
     ]
    },
    {
     "data": {
      "text/plain": [
       "license                        100.000000\n",
       "square_feet                     97.459403\n",
       "monthly_price                   60.267156\n",
       "security_deposit                51.126244\n",
       "weekly_price                    47.380828\n",
       "notes                           42.063908\n",
       "neighborhood_overview           27.029859\n",
       "cleaning_fee                    26.977475\n",
       "transit                         24.463070\n",
       "host_about                      22.498690\n",
       "host_acceptance_rate            20.246202\n",
       "review_scores_accuracy          17.234154\n",
       "review_scores_checkin           17.234154\n",
       "review_scores_value             17.181771\n",
       "review_scores_location          17.155579\n",
       "review_scores_cleanliness       17.103195\n",
       "review_scores_communication     17.050812\n",
       "review_scores_rating            16.946045\n",
       "last_review                     16.422211\n",
       "first_review                    16.422211\n",
       "reviews_per_month               16.422211\n",
       "space                           14.903091\n",
       "host_response_rate              13.698271\n",
       "host_response_time              13.698271\n",
       "neighbourhood                   10.895757\n",
       "thumbnail_url                    8.381351\n",
       "medium_url                       8.381351\n",
       "xl_picture_url                   8.381351\n",
       "host_neighbourhood               7.857517\n",
       "summary                          4.635935\n",
       "bathrooms                        0.419068\n",
       "host_location                    0.209534\n",
       "zipcode                          0.183342\n",
       "bedrooms                         0.157150\n",
       "host_name                        0.052383\n",
       "host_listings_count              0.052383\n",
       "host_since                       0.052383\n",
       "host_is_superhost                0.052383\n",
       "host_identity_verified           0.052383\n",
       "host_picture_url                 0.052383\n",
       "host_thumbnail_url               0.052383\n",
       "host_total_listings_count        0.052383\n",
       "host_has_profile_pic             0.052383\n",
       "property_type                    0.026192\n",
       "beds                             0.026192\n",
       "dtype: float64"
      ]
     },
     "execution_count": 5,
     "metadata": {},
     "output_type": "execute_result"
    }
   ],
   "source": [
    "missing_data = listing.isna().mean().sort_values(ascending =False)*100            \n",
    "print(len(missing_data[missing_data > 0]))\n",
    "missing_data[missing_data > 0]"
   ]
  },
  {
   "cell_type": "code",
   "execution_count": 6,
   "id": "047a002b",
   "metadata": {},
   "outputs": [
    {
     "data": {
      "text/plain": [
       "listing_id        0\n",
       "id                0\n",
       "date              0\n",
       "reviewer_id       0\n",
       "reviewer_name     0\n",
       "comments         18\n",
       "dtype: int64"
      ]
     },
     "execution_count": 6,
     "metadata": {},
     "output_type": "execute_result"
    }
   ],
   "source": [
    "#missing values\n",
    "review.isna().sum()"
   ]
  },
  {
   "cell_type": "code",
   "execution_count": 7,
   "id": "3c44ab28",
   "metadata": {},
   "outputs": [
    {
     "data": {
      "text/plain": [
       "listing_id         0\n",
       "date               0\n",
       "available          0\n",
       "price         459028\n",
       "dtype: int64"
      ]
     },
     "execution_count": 7,
     "metadata": {},
     "output_type": "execute_result"
    }
   ],
   "source": [
    "#missing values\n",
    "calendar.isna().sum()"
   ]
  },
  {
   "cell_type": "markdown",
   "id": "ea8515e7",
   "metadata": {},
   "source": [
    "A look at listing dataset"
   ]
  },
  {
   "cell_type": "code",
   "execution_count": 8,
   "id": "97d5ca9e",
   "metadata": {},
   "outputs": [
    {
     "name": "stdout",
     "output_type": "stream",
     "text": [
      "<class 'pandas.core.frame.DataFrame'>\n",
      "RangeIndex: 3818 entries, 0 to 3817\n",
      "Data columns (total 92 columns):\n",
      " #   Column                            Non-Null Count  Dtype  \n",
      "---  ------                            --------------  -----  \n",
      " 0   id                                3818 non-null   int64  \n",
      " 1   listing_url                       3818 non-null   object \n",
      " 2   scrape_id                         3818 non-null   int64  \n",
      " 3   last_scraped                      3818 non-null   object \n",
      " 4   name                              3818 non-null   object \n",
      " 5   summary                           3641 non-null   object \n",
      " 6   space                             3249 non-null   object \n",
      " 7   description                       3818 non-null   object \n",
      " 8   experiences_offered               3818 non-null   object \n",
      " 9   neighborhood_overview             2786 non-null   object \n",
      " 10  notes                             2212 non-null   object \n",
      " 11  transit                           2884 non-null   object \n",
      " 12  thumbnail_url                     3498 non-null   object \n",
      " 13  medium_url                        3498 non-null   object \n",
      " 14  picture_url                       3818 non-null   object \n",
      " 15  xl_picture_url                    3498 non-null   object \n",
      " 16  host_id                           3818 non-null   int64  \n",
      " 17  host_url                          3818 non-null   object \n",
      " 18  host_name                         3816 non-null   object \n",
      " 19  host_since                        3816 non-null   object \n",
      " 20  host_location                     3810 non-null   object \n",
      " 21  host_about                        2959 non-null   object \n",
      " 22  host_response_time                3295 non-null   object \n",
      " 23  host_response_rate                3295 non-null   object \n",
      " 24  host_acceptance_rate              3045 non-null   object \n",
      " 25  host_is_superhost                 3816 non-null   object \n",
      " 26  host_thumbnail_url                3816 non-null   object \n",
      " 27  host_picture_url                  3816 non-null   object \n",
      " 28  host_neighbourhood                3518 non-null   object \n",
      " 29  host_listings_count               3816 non-null   float64\n",
      " 30  host_total_listings_count         3816 non-null   float64\n",
      " 31  host_verifications                3818 non-null   object \n",
      " 32  host_has_profile_pic              3816 non-null   object \n",
      " 33  host_identity_verified            3816 non-null   object \n",
      " 34  street                            3818 non-null   object \n",
      " 35  neighbourhood                     3402 non-null   object \n",
      " 36  neighbourhood_cleansed            3818 non-null   object \n",
      " 37  neighbourhood_group_cleansed      3818 non-null   object \n",
      " 38  city                              3818 non-null   object \n",
      " 39  state                             3818 non-null   object \n",
      " 40  zipcode                           3811 non-null   object \n",
      " 41  market                            3818 non-null   object \n",
      " 42  smart_location                    3818 non-null   object \n",
      " 43  country_code                      3818 non-null   object \n",
      " 44  country                           3818 non-null   object \n",
      " 45  latitude                          3818 non-null   float64\n",
      " 46  longitude                         3818 non-null   float64\n",
      " 47  is_location_exact                 3818 non-null   object \n",
      " 48  property_type                     3817 non-null   object \n",
      " 49  room_type                         3818 non-null   object \n",
      " 50  accommodates                      3818 non-null   int64  \n",
      " 51  bathrooms                         3802 non-null   float64\n",
      " 52  bedrooms                          3812 non-null   float64\n",
      " 53  beds                              3817 non-null   float64\n",
      " 54  bed_type                          3818 non-null   object \n",
      " 55  amenities                         3818 non-null   object \n",
      " 56  square_feet                       97 non-null     float64\n",
      " 57  price                             3818 non-null   object \n",
      " 58  weekly_price                      2009 non-null   object \n",
      " 59  monthly_price                     1517 non-null   object \n",
      " 60  security_deposit                  1866 non-null   object \n",
      " 61  cleaning_fee                      2788 non-null   object \n",
      " 62  guests_included                   3818 non-null   int64  \n",
      " 63  extra_people                      3818 non-null   object \n",
      " 64  minimum_nights                    3818 non-null   int64  \n",
      " 65  maximum_nights                    3818 non-null   int64  \n",
      " 66  calendar_updated                  3818 non-null   object \n",
      " 67  has_availability                  3818 non-null   object \n",
      " 68  availability_30                   3818 non-null   int64  \n",
      " 69  availability_60                   3818 non-null   int64  \n",
      " 70  availability_90                   3818 non-null   int64  \n",
      " 71  availability_365                  3818 non-null   int64  \n",
      " 72  calendar_last_scraped             3818 non-null   object \n",
      " 73  number_of_reviews                 3818 non-null   int64  \n",
      " 74  first_review                      3191 non-null   object \n",
      " 75  last_review                       3191 non-null   object \n",
      " 76  review_scores_rating              3171 non-null   float64\n",
      " 77  review_scores_accuracy            3160 non-null   float64\n",
      " 78  review_scores_cleanliness         3165 non-null   float64\n",
      " 79  review_scores_checkin             3160 non-null   float64\n",
      " 80  review_scores_communication       3167 non-null   float64\n",
      " 81  review_scores_location            3163 non-null   float64\n",
      " 82  review_scores_value               3162 non-null   float64\n",
      " 83  requires_license                  3818 non-null   object \n",
      " 84  license                           0 non-null      float64\n",
      " 85  jurisdiction_names                3818 non-null   object \n",
      " 86  instant_bookable                  3818 non-null   object \n",
      " 87  cancellation_policy               3818 non-null   object \n",
      " 88  require_guest_profile_picture     3818 non-null   object \n",
      " 89  require_guest_phone_verification  3818 non-null   object \n",
      " 90  calculated_host_listings_count    3818 non-null   int64  \n",
      " 91  reviews_per_month                 3191 non-null   float64\n",
      "dtypes: float64(17), int64(13), object(62)\n",
      "memory usage: 2.7+ MB\n"
     ]
    }
   ],
   "source": [
    "listing.info()"
   ]
  },
  {
   "cell_type": "code",
   "execution_count": 9,
   "id": "3df937ae",
   "metadata": {},
   "outputs": [
    {
     "data": {
      "text/plain": [
       "['id',\n",
       " 'listing_url',\n",
       " 'scrape_id',\n",
       " 'last_scraped',\n",
       " 'name',\n",
       " 'summary',\n",
       " 'space',\n",
       " 'description',\n",
       " 'experiences_offered',\n",
       " 'neighborhood_overview',\n",
       " 'notes',\n",
       " 'transit',\n",
       " 'thumbnail_url',\n",
       " 'medium_url',\n",
       " 'picture_url',\n",
       " 'xl_picture_url',\n",
       " 'host_id',\n",
       " 'host_url',\n",
       " 'host_name',\n",
       " 'host_since',\n",
       " 'host_location',\n",
       " 'host_about',\n",
       " 'host_response_time',\n",
       " 'host_response_rate',\n",
       " 'host_acceptance_rate',\n",
       " 'host_is_superhost',\n",
       " 'host_thumbnail_url',\n",
       " 'host_picture_url',\n",
       " 'host_neighbourhood',\n",
       " 'host_listings_count',\n",
       " 'host_total_listings_count',\n",
       " 'host_verifications',\n",
       " 'host_has_profile_pic',\n",
       " 'host_identity_verified',\n",
       " 'street',\n",
       " 'neighbourhood',\n",
       " 'neighbourhood_cleansed',\n",
       " 'neighbourhood_group_cleansed',\n",
       " 'city',\n",
       " 'state',\n",
       " 'zipcode',\n",
       " 'market',\n",
       " 'smart_location',\n",
       " 'country_code',\n",
       " 'country',\n",
       " 'latitude',\n",
       " 'longitude',\n",
       " 'is_location_exact',\n",
       " 'property_type',\n",
       " 'room_type',\n",
       " 'accommodates',\n",
       " 'bathrooms',\n",
       " 'bedrooms',\n",
       " 'beds',\n",
       " 'bed_type',\n",
       " 'amenities',\n",
       " 'square_feet',\n",
       " 'price',\n",
       " 'weekly_price',\n",
       " 'monthly_price',\n",
       " 'security_deposit',\n",
       " 'cleaning_fee',\n",
       " 'guests_included',\n",
       " 'extra_people',\n",
       " 'minimum_nights',\n",
       " 'maximum_nights',\n",
       " 'calendar_updated',\n",
       " 'has_availability',\n",
       " 'availability_30',\n",
       " 'availability_60',\n",
       " 'availability_90',\n",
       " 'availability_365',\n",
       " 'calendar_last_scraped',\n",
       " 'number_of_reviews',\n",
       " 'first_review',\n",
       " 'last_review',\n",
       " 'review_scores_rating',\n",
       " 'review_scores_accuracy',\n",
       " 'review_scores_cleanliness',\n",
       " 'review_scores_checkin',\n",
       " 'review_scores_communication',\n",
       " 'review_scores_location',\n",
       " 'review_scores_value',\n",
       " 'requires_license',\n",
       " 'license',\n",
       " 'jurisdiction_names',\n",
       " 'instant_bookable',\n",
       " 'cancellation_policy',\n",
       " 'require_guest_profile_picture',\n",
       " 'require_guest_phone_verification',\n",
       " 'calculated_host_listings_count',\n",
       " 'reviews_per_month']"
      ]
     },
     "execution_count": 9,
     "metadata": {},
     "output_type": "execute_result"
    }
   ],
   "source": [
    "##list all the columns in the listings dataframe to find relevant data. Some plausible options are neighbourhood, \n",
    "#neighborhood_cleansed, name and price.\n",
    "list(listing)\n"
   ]
  },
  {
   "cell_type": "code",
   "execution_count": 10,
   "id": "d19ef653",
   "metadata": {},
   "outputs": [
    {
     "data": {
      "text/html": [
       "<div>\n",
       "<style scoped>\n",
       "    .dataframe tbody tr th:only-of-type {\n",
       "        vertical-align: middle;\n",
       "    }\n",
       "\n",
       "    .dataframe tbody tr th {\n",
       "        vertical-align: top;\n",
       "    }\n",
       "\n",
       "    .dataframe thead th {\n",
       "        text-align: right;\n",
       "    }\n",
       "</style>\n",
       "<table border=\"1\" class=\"dataframe\">\n",
       "  <thead>\n",
       "    <tr style=\"text-align: right;\">\n",
       "      <th></th>\n",
       "      <th>id</th>\n",
       "      <th>listing_url</th>\n",
       "      <th>scrape_id</th>\n",
       "      <th>last_scraped</th>\n",
       "      <th>name</th>\n",
       "      <th>summary</th>\n",
       "      <th>space</th>\n",
       "      <th>description</th>\n",
       "      <th>experiences_offered</th>\n",
       "      <th>neighborhood_overview</th>\n",
       "      <th>...</th>\n",
       "      <th>review_scores_value</th>\n",
       "      <th>requires_license</th>\n",
       "      <th>license</th>\n",
       "      <th>jurisdiction_names</th>\n",
       "      <th>instant_bookable</th>\n",
       "      <th>cancellation_policy</th>\n",
       "      <th>require_guest_profile_picture</th>\n",
       "      <th>require_guest_phone_verification</th>\n",
       "      <th>calculated_host_listings_count</th>\n",
       "      <th>reviews_per_month</th>\n",
       "    </tr>\n",
       "  </thead>\n",
       "  <tbody>\n",
       "    <tr>\n",
       "      <th>0</th>\n",
       "      <td>241032</td>\n",
       "      <td>https://www.airbnb.com/rooms/241032</td>\n",
       "      <td>20160104002432</td>\n",
       "      <td>2016-01-04</td>\n",
       "      <td>Stylish Queen Anne Apartment</td>\n",
       "      <td>NaN</td>\n",
       "      <td>Make your self at home in this charming one-be...</td>\n",
       "      <td>Make your self at home in this charming one-be...</td>\n",
       "      <td>none</td>\n",
       "      <td>NaN</td>\n",
       "      <td>...</td>\n",
       "      <td>10.0</td>\n",
       "      <td>f</td>\n",
       "      <td>NaN</td>\n",
       "      <td>WASHINGTON</td>\n",
       "      <td>f</td>\n",
       "      <td>moderate</td>\n",
       "      <td>f</td>\n",
       "      <td>f</td>\n",
       "      <td>2</td>\n",
       "      <td>4.07</td>\n",
       "    </tr>\n",
       "    <tr>\n",
       "      <th>1</th>\n",
       "      <td>953595</td>\n",
       "      <td>https://www.airbnb.com/rooms/953595</td>\n",
       "      <td>20160104002432</td>\n",
       "      <td>2016-01-04</td>\n",
       "      <td>Bright &amp; Airy Queen Anne Apartment</td>\n",
       "      <td>Chemically sensitive? We've removed the irrita...</td>\n",
       "      <td>Beautiful, hypoallergenic apartment in an extr...</td>\n",
       "      <td>Chemically sensitive? We've removed the irrita...</td>\n",
       "      <td>none</td>\n",
       "      <td>Queen Anne is a wonderful, truly functional vi...</td>\n",
       "      <td>...</td>\n",
       "      <td>10.0</td>\n",
       "      <td>f</td>\n",
       "      <td>NaN</td>\n",
       "      <td>WASHINGTON</td>\n",
       "      <td>f</td>\n",
       "      <td>strict</td>\n",
       "      <td>t</td>\n",
       "      <td>t</td>\n",
       "      <td>6</td>\n",
       "      <td>1.48</td>\n",
       "    </tr>\n",
       "    <tr>\n",
       "      <th>2</th>\n",
       "      <td>3308979</td>\n",
       "      <td>https://www.airbnb.com/rooms/3308979</td>\n",
       "      <td>20160104002432</td>\n",
       "      <td>2016-01-04</td>\n",
       "      <td>New Modern House-Amazing water view</td>\n",
       "      <td>New modern house built in 2013.  Spectacular s...</td>\n",
       "      <td>Our house is modern, light and fresh with a wa...</td>\n",
       "      <td>New modern house built in 2013.  Spectacular s...</td>\n",
       "      <td>none</td>\n",
       "      <td>Upper Queen Anne is a charming neighborhood fu...</td>\n",
       "      <td>...</td>\n",
       "      <td>10.0</td>\n",
       "      <td>f</td>\n",
       "      <td>NaN</td>\n",
       "      <td>WASHINGTON</td>\n",
       "      <td>f</td>\n",
       "      <td>strict</td>\n",
       "      <td>f</td>\n",
       "      <td>f</td>\n",
       "      <td>2</td>\n",
       "      <td>1.15</td>\n",
       "    </tr>\n",
       "    <tr>\n",
       "      <th>3</th>\n",
       "      <td>7421966</td>\n",
       "      <td>https://www.airbnb.com/rooms/7421966</td>\n",
       "      <td>20160104002432</td>\n",
       "      <td>2016-01-04</td>\n",
       "      <td>Queen Anne Chateau</td>\n",
       "      <td>A charming apartment that sits atop Queen Anne...</td>\n",
       "      <td>NaN</td>\n",
       "      <td>A charming apartment that sits atop Queen Anne...</td>\n",
       "      <td>none</td>\n",
       "      <td>NaN</td>\n",
       "      <td>...</td>\n",
       "      <td>NaN</td>\n",
       "      <td>f</td>\n",
       "      <td>NaN</td>\n",
       "      <td>WASHINGTON</td>\n",
       "      <td>f</td>\n",
       "      <td>flexible</td>\n",
       "      <td>f</td>\n",
       "      <td>f</td>\n",
       "      <td>1</td>\n",
       "      <td>NaN</td>\n",
       "    </tr>\n",
       "    <tr>\n",
       "      <th>4</th>\n",
       "      <td>278830</td>\n",
       "      <td>https://www.airbnb.com/rooms/278830</td>\n",
       "      <td>20160104002432</td>\n",
       "      <td>2016-01-04</td>\n",
       "      <td>Charming craftsman 3 bdm house</td>\n",
       "      <td>Cozy family craftman house in beautiful neighb...</td>\n",
       "      <td>Cozy family craftman house in beautiful neighb...</td>\n",
       "      <td>Cozy family craftman house in beautiful neighb...</td>\n",
       "      <td>none</td>\n",
       "      <td>We are in the beautiful neighborhood of Queen ...</td>\n",
       "      <td>...</td>\n",
       "      <td>9.0</td>\n",
       "      <td>f</td>\n",
       "      <td>NaN</td>\n",
       "      <td>WASHINGTON</td>\n",
       "      <td>f</td>\n",
       "      <td>strict</td>\n",
       "      <td>f</td>\n",
       "      <td>f</td>\n",
       "      <td>1</td>\n",
       "      <td>0.89</td>\n",
       "    </tr>\n",
       "  </tbody>\n",
       "</table>\n",
       "<p>5 rows × 92 columns</p>\n",
       "</div>"
      ],
      "text/plain": [
       "        id                           listing_url       scrape_id last_scraped  \\\n",
       "0   241032   https://www.airbnb.com/rooms/241032  20160104002432   2016-01-04   \n",
       "1   953595   https://www.airbnb.com/rooms/953595  20160104002432   2016-01-04   \n",
       "2  3308979  https://www.airbnb.com/rooms/3308979  20160104002432   2016-01-04   \n",
       "3  7421966  https://www.airbnb.com/rooms/7421966  20160104002432   2016-01-04   \n",
       "4   278830   https://www.airbnb.com/rooms/278830  20160104002432   2016-01-04   \n",
       "\n",
       "                                  name  \\\n",
       "0         Stylish Queen Anne Apartment   \n",
       "1   Bright & Airy Queen Anne Apartment   \n",
       "2  New Modern House-Amazing water view   \n",
       "3                   Queen Anne Chateau   \n",
       "4       Charming craftsman 3 bdm house   \n",
       "\n",
       "                                             summary  \\\n",
       "0                                                NaN   \n",
       "1  Chemically sensitive? We've removed the irrita...   \n",
       "2  New modern house built in 2013.  Spectacular s...   \n",
       "3  A charming apartment that sits atop Queen Anne...   \n",
       "4  Cozy family craftman house in beautiful neighb...   \n",
       "\n",
       "                                               space  \\\n",
       "0  Make your self at home in this charming one-be...   \n",
       "1  Beautiful, hypoallergenic apartment in an extr...   \n",
       "2  Our house is modern, light and fresh with a wa...   \n",
       "3                                                NaN   \n",
       "4  Cozy family craftman house in beautiful neighb...   \n",
       "\n",
       "                                         description experiences_offered  \\\n",
       "0  Make your self at home in this charming one-be...                none   \n",
       "1  Chemically sensitive? We've removed the irrita...                none   \n",
       "2  New modern house built in 2013.  Spectacular s...                none   \n",
       "3  A charming apartment that sits atop Queen Anne...                none   \n",
       "4  Cozy family craftman house in beautiful neighb...                none   \n",
       "\n",
       "                               neighborhood_overview  ... review_scores_value  \\\n",
       "0                                                NaN  ...                10.0   \n",
       "1  Queen Anne is a wonderful, truly functional vi...  ...                10.0   \n",
       "2  Upper Queen Anne is a charming neighborhood fu...  ...                10.0   \n",
       "3                                                NaN  ...                 NaN   \n",
       "4  We are in the beautiful neighborhood of Queen ...  ...                 9.0   \n",
       "\n",
       "  requires_license license jurisdiction_names instant_bookable  \\\n",
       "0                f     NaN         WASHINGTON                f   \n",
       "1                f     NaN         WASHINGTON                f   \n",
       "2                f     NaN         WASHINGTON                f   \n",
       "3                f     NaN         WASHINGTON                f   \n",
       "4                f     NaN         WASHINGTON                f   \n",
       "\n",
       "  cancellation_policy  require_guest_profile_picture  \\\n",
       "0            moderate                              f   \n",
       "1              strict                              t   \n",
       "2              strict                              f   \n",
       "3            flexible                              f   \n",
       "4              strict                              f   \n",
       "\n",
       "  require_guest_phone_verification calculated_host_listings_count  \\\n",
       "0                                f                              2   \n",
       "1                                t                              6   \n",
       "2                                f                              2   \n",
       "3                                f                              1   \n",
       "4                                f                              1   \n",
       "\n",
       "  reviews_per_month  \n",
       "0              4.07  \n",
       "1              1.48  \n",
       "2              1.15  \n",
       "3               NaN  \n",
       "4              0.89  \n",
       "\n",
       "[5 rows x 92 columns]"
      ]
     },
     "execution_count": 10,
     "metadata": {},
     "output_type": "execute_result"
    }
   ],
   "source": [
    "#get a first look at the listings data\n",
    "listing.head()"
   ]
  },
  {
   "cell_type": "markdown",
   "id": "e2542fb0",
   "metadata": {},
   "source": [
    "A look at review dataset"
   ]
  },
  {
   "cell_type": "code",
   "execution_count": 11,
   "id": "dd5118c9",
   "metadata": {},
   "outputs": [
    {
     "data": {
      "text/plain": [
       "['listing_id', 'id', 'date', 'reviewer_id', 'reviewer_name', 'comments']"
      ]
     },
     "execution_count": 11,
     "metadata": {},
     "output_type": "execute_result"
    }
   ],
   "source": [
    "list(review)"
   ]
  },
  {
   "cell_type": "code",
   "execution_count": 12,
   "id": "e5bc5de6",
   "metadata": {},
   "outputs": [
    {
     "data": {
      "text/html": [
       "<div>\n",
       "<style scoped>\n",
       "    .dataframe tbody tr th:only-of-type {\n",
       "        vertical-align: middle;\n",
       "    }\n",
       "\n",
       "    .dataframe tbody tr th {\n",
       "        vertical-align: top;\n",
       "    }\n",
       "\n",
       "    .dataframe thead th {\n",
       "        text-align: right;\n",
       "    }\n",
       "</style>\n",
       "<table border=\"1\" class=\"dataframe\">\n",
       "  <thead>\n",
       "    <tr style=\"text-align: right;\">\n",
       "      <th></th>\n",
       "      <th>listing_id</th>\n",
       "      <th>id</th>\n",
       "      <th>date</th>\n",
       "      <th>reviewer_id</th>\n",
       "      <th>reviewer_name</th>\n",
       "      <th>comments</th>\n",
       "    </tr>\n",
       "  </thead>\n",
       "  <tbody>\n",
       "    <tr>\n",
       "      <th>0</th>\n",
       "      <td>7202016</td>\n",
       "      <td>38917982</td>\n",
       "      <td>2015-07-19</td>\n",
       "      <td>28943674</td>\n",
       "      <td>Bianca</td>\n",
       "      <td>Cute and cozy place. Perfect location to every...</td>\n",
       "    </tr>\n",
       "    <tr>\n",
       "      <th>1</th>\n",
       "      <td>7202016</td>\n",
       "      <td>39087409</td>\n",
       "      <td>2015-07-20</td>\n",
       "      <td>32440555</td>\n",
       "      <td>Frank</td>\n",
       "      <td>Kelly has a great room in a very central locat...</td>\n",
       "    </tr>\n",
       "    <tr>\n",
       "      <th>2</th>\n",
       "      <td>7202016</td>\n",
       "      <td>39820030</td>\n",
       "      <td>2015-07-26</td>\n",
       "      <td>37722850</td>\n",
       "      <td>Ian</td>\n",
       "      <td>Very spacious apartment, and in a great neighb...</td>\n",
       "    </tr>\n",
       "    <tr>\n",
       "      <th>3</th>\n",
       "      <td>7202016</td>\n",
       "      <td>40813543</td>\n",
       "      <td>2015-08-02</td>\n",
       "      <td>33671805</td>\n",
       "      <td>George</td>\n",
       "      <td>Close to Seattle Center and all it has to offe...</td>\n",
       "    </tr>\n",
       "    <tr>\n",
       "      <th>4</th>\n",
       "      <td>7202016</td>\n",
       "      <td>41986501</td>\n",
       "      <td>2015-08-10</td>\n",
       "      <td>34959538</td>\n",
       "      <td>Ming</td>\n",
       "      <td>Kelly was a great host and very accommodating ...</td>\n",
       "    </tr>\n",
       "  </tbody>\n",
       "</table>\n",
       "</div>"
      ],
      "text/plain": [
       "   listing_id        id        date  reviewer_id reviewer_name  \\\n",
       "0     7202016  38917982  2015-07-19     28943674        Bianca   \n",
       "1     7202016  39087409  2015-07-20     32440555         Frank   \n",
       "2     7202016  39820030  2015-07-26     37722850           Ian   \n",
       "3     7202016  40813543  2015-08-02     33671805        George   \n",
       "4     7202016  41986501  2015-08-10     34959538          Ming   \n",
       "\n",
       "                                            comments  \n",
       "0  Cute and cozy place. Perfect location to every...  \n",
       "1  Kelly has a great room in a very central locat...  \n",
       "2  Very spacious apartment, and in a great neighb...  \n",
       "3  Close to Seattle Center and all it has to offe...  \n",
       "4  Kelly was a great host and very accommodating ...  "
      ]
     },
     "execution_count": 12,
     "metadata": {},
     "output_type": "execute_result"
    }
   ],
   "source": [
    "review.head()"
   ]
  },
  {
   "cell_type": "code",
   "execution_count": 13,
   "id": "3d8d3b22",
   "metadata": {},
   "outputs": [
    {
     "name": "stdout",
     "output_type": "stream",
     "text": [
      "<class 'pandas.core.frame.DataFrame'>\n",
      "RangeIndex: 84849 entries, 0 to 84848\n",
      "Data columns (total 6 columns):\n",
      " #   Column         Non-Null Count  Dtype \n",
      "---  ------         --------------  ----- \n",
      " 0   listing_id     84849 non-null  int64 \n",
      " 1   id             84849 non-null  int64 \n",
      " 2   date           84849 non-null  object\n",
      " 3   reviewer_id    84849 non-null  int64 \n",
      " 4   reviewer_name  84849 non-null  object\n",
      " 5   comments       84831 non-null  object\n",
      "dtypes: int64(3), object(3)\n",
      "memory usage: 3.9+ MB\n"
     ]
    }
   ],
   "source": [
    "review.info()"
   ]
  },
  {
   "cell_type": "markdown",
   "id": "e9cd2595",
   "metadata": {},
   "source": [
    "A look at calendar dataset"
   ]
  },
  {
   "cell_type": "code",
   "execution_count": 14,
   "id": "46e586b1",
   "metadata": {},
   "outputs": [
    {
     "data": {
      "text/plain": [
       "['listing_id', 'date', 'available', 'price']"
      ]
     },
     "execution_count": 14,
     "metadata": {},
     "output_type": "execute_result"
    }
   ],
   "source": [
    "list(calendar)"
   ]
  },
  {
   "cell_type": "code",
   "execution_count": 15,
   "id": "08c7ba03",
   "metadata": {},
   "outputs": [
    {
     "data": {
      "text/html": [
       "<div>\n",
       "<style scoped>\n",
       "    .dataframe tbody tr th:only-of-type {\n",
       "        vertical-align: middle;\n",
       "    }\n",
       "\n",
       "    .dataframe tbody tr th {\n",
       "        vertical-align: top;\n",
       "    }\n",
       "\n",
       "    .dataframe thead th {\n",
       "        text-align: right;\n",
       "    }\n",
       "</style>\n",
       "<table border=\"1\" class=\"dataframe\">\n",
       "  <thead>\n",
       "    <tr style=\"text-align: right;\">\n",
       "      <th></th>\n",
       "      <th>listing_id</th>\n",
       "      <th>date</th>\n",
       "      <th>available</th>\n",
       "      <th>price</th>\n",
       "    </tr>\n",
       "  </thead>\n",
       "  <tbody>\n",
       "    <tr>\n",
       "      <th>0</th>\n",
       "      <td>241032</td>\n",
       "      <td>2016-01-04</td>\n",
       "      <td>t</td>\n",
       "      <td>$85.00</td>\n",
       "    </tr>\n",
       "    <tr>\n",
       "      <th>1</th>\n",
       "      <td>241032</td>\n",
       "      <td>2016-01-05</td>\n",
       "      <td>t</td>\n",
       "      <td>$85.00</td>\n",
       "    </tr>\n",
       "    <tr>\n",
       "      <th>2</th>\n",
       "      <td>241032</td>\n",
       "      <td>2016-01-06</td>\n",
       "      <td>f</td>\n",
       "      <td>NaN</td>\n",
       "    </tr>\n",
       "    <tr>\n",
       "      <th>3</th>\n",
       "      <td>241032</td>\n",
       "      <td>2016-01-07</td>\n",
       "      <td>f</td>\n",
       "      <td>NaN</td>\n",
       "    </tr>\n",
       "    <tr>\n",
       "      <th>4</th>\n",
       "      <td>241032</td>\n",
       "      <td>2016-01-08</td>\n",
       "      <td>f</td>\n",
       "      <td>NaN</td>\n",
       "    </tr>\n",
       "  </tbody>\n",
       "</table>\n",
       "</div>"
      ],
      "text/plain": [
       "   listing_id        date available   price\n",
       "0      241032  2016-01-04         t  $85.00\n",
       "1      241032  2016-01-05         t  $85.00\n",
       "2      241032  2016-01-06         f     NaN\n",
       "3      241032  2016-01-07         f     NaN\n",
       "4      241032  2016-01-08         f     NaN"
      ]
     },
     "execution_count": 15,
     "metadata": {},
     "output_type": "execute_result"
    }
   ],
   "source": [
    "calendar.head()"
   ]
  },
  {
   "cell_type": "code",
   "execution_count": 16,
   "id": "a133c099",
   "metadata": {},
   "outputs": [
    {
     "name": "stdout",
     "output_type": "stream",
     "text": [
      "<class 'pandas.core.frame.DataFrame'>\n",
      "RangeIndex: 1393570 entries, 0 to 1393569\n",
      "Data columns (total 4 columns):\n",
      " #   Column      Non-Null Count    Dtype \n",
      "---  ------      --------------    ----- \n",
      " 0   listing_id  1393570 non-null  int64 \n",
      " 1   date        1393570 non-null  object\n",
      " 2   available   1393570 non-null  object\n",
      " 3   price       934542 non-null   object\n",
      "dtypes: int64(1), object(3)\n",
      "memory usage: 42.5+ MB\n"
     ]
    }
   ],
   "source": [
    "calendar.info()"
   ]
  },
  {
   "cell_type": "code",
   "execution_count": 17,
   "id": "d5d89b42",
   "metadata": {},
   "outputs": [
    {
     "data": {
      "text/plain": [
       "array([365], dtype=int64)"
      ]
     },
     "execution_count": 17,
     "metadata": {},
     "output_type": "execute_result"
    }
   ],
   "source": [
    "#number of bookings for each of the 3818 listings\n",
    "calendar['listing_id'].value_counts().unique()"
   ]
  },
  {
   "cell_type": "code",
   "execution_count": 18,
   "id": "b546490e",
   "metadata": {},
   "outputs": [
    {
     "data": {
      "text/plain": [
       "count      934542\n",
       "unique        669\n",
       "top       $150.00\n",
       "freq        36646\n",
       "Name: price, dtype: object"
      ]
     },
     "execution_count": 18,
     "metadata": {},
     "output_type": "execute_result"
    }
   ],
   "source": [
    "calendar['price'].describe().transpose() #most common price is 150$"
   ]
  },
  {
   "cell_type": "markdown",
   "id": "41e9d93f",
   "metadata": {},
   "source": [
    "Data Cleaning"
   ]
  },
  {
   "cell_type": "code",
   "execution_count": 19,
   "id": "683daf03",
   "metadata": {},
   "outputs": [],
   "source": [
    "def remove_dollar_from_price(df,var):\n",
    "    '''\n",
    "    Remove special characters from numerical data, e.g $ \n",
    "    \n",
    "    Input - \n",
    "        df - dataframe\n",
    "        var - column_name\n",
    "        \n",
    "    Output - extracted value\n",
    "    '''\n",
    "    if df.dtypes[var] == 'O':\n",
    "        df[var] = df[var].str.extract('([0-9.]+)').astype('float64')\n",
    "        print(\"Removed $ from the column\", var)\n",
    "    else:\n",
    "        print(\"The {var} column is already cleaned.\".format(var = var))"
   ]
  },
  {
   "cell_type": "code",
   "execution_count": 20,
   "id": "e0bc08cb",
   "metadata": {},
   "outputs": [],
   "source": [
    "def format_removed_columns_msg(count, col_types, rows, cols):\n",
    "    '''Format print message\n",
    "    \n",
    "    params:\n",
    "    count - number of columns in the list\n",
    "    col_types - type of data removed, e.g - id, url, etc.\n",
    "    rows - number of rows in the updated listing dataframe\n",
    "    cols - number of columns in the updated listing dataframe\n",
    "    '''   \n",
    "    print(\"Removed {count} {col_types} columns from listings data, Updated data has {rows} rows and {cols} columns\".format(count =count, col_types =col_types, rows = rows, cols = cols))"
   ]
  },
  {
   "cell_type": "code",
   "execution_count": 21,
   "id": "238f074e",
   "metadata": {},
   "outputs": [
    {
     "name": "stdout",
     "output_type": "stream",
     "text": [
      "Removed $ from the column price\n",
      "Removed $ from the column price\n"
     ]
    }
   ],
   "source": [
    "remove_dollar_from_price(calendar,'price') #remove $ from price in calendar dataset\n",
    "remove_dollar_from_price(listing,'price') #remove $ from price in listings dataset"
   ]
  },
  {
   "cell_type": "code",
   "execution_count": 22,
   "id": "3cabfbb5",
   "metadata": {},
   "outputs": [],
   "source": [
    "calendar = calendar.dropna()"
   ]
  },
  {
   "cell_type": "code",
   "execution_count": 23,
   "id": "0e9b5283",
   "metadata": {},
   "outputs": [],
   "source": [
    "listing = listing.dropna(subset=['review_scores_value'])"
   ]
  },
  {
   "cell_type": "code",
   "execution_count": 24,
   "id": "e9741920",
   "metadata": {},
   "outputs": [],
   "source": [
    "listing['price'] = listing['price'].astype(float)"
   ]
  },
  {
   "cell_type": "code",
   "execution_count": 25,
   "id": "95b40d76",
   "metadata": {},
   "outputs": [],
   "source": [
    "listing[\"review_scores_value\"].isnull().mean()\n",
    "listing = listing[~listing[\"review_scores_value\"].isnull()]"
   ]
  },
  {
   "cell_type": "markdown",
   "id": "b37697e3",
   "metadata": {},
   "source": [
    "Data Preparation"
   ]
  },
  {
   "cell_type": "markdown",
   "id": "a2b81a78",
   "metadata": {},
   "source": [
    "# Question1: What are the most popular neighborhoods? "
   ]
  },
  {
   "cell_type": "code",
   "execution_count": 26,
   "id": "3265ac66",
   "metadata": {},
   "outputs": [
    {
     "data": {
      "text/plain": [
       "Broadway                     321\n",
       "Belltown                     203\n",
       "Wallingford                  145\n",
       "Fremont                      134\n",
       "Minor                        124\n",
       "University District           95\n",
       "Stevens                       94\n",
       "First Hill                    90\n",
       "Central Business District     89\n",
       "Lower Queen Anne              73\n",
       "Name: neighbourhood_cleansed, dtype: int64"
      ]
     },
     "execution_count": 26,
     "metadata": {},
     "output_type": "execute_result"
    },
    {
     "data": {
      "image/png": "[encoded data removed]",
      "text/plain": [
       "<Figure size 432x288 with 1 Axes>"
      ]
     },
     "metadata": {
      "needs_background": "light"
     },
     "output_type": "display_data"
    }
   ],
   "source": [
    "listings_per_neighborhood = listing['neighbourhood_cleansed'].value_counts()\n",
    "listings_per_neighborhood[:10].plot(kind=\"bar\", title=\"Top Listings\", xlabel=\"Neighborhood\", ylabel=\"Number of Listings\")\n",
    "\n",
    "listings_per_neighborhood.head(10)"
   ]
  },
  {
   "cell_type": "markdown",
   "id": "09e303a0",
   "metadata": {},
   "source": [
    "# Question2: What are the most expensive neighborhoods? "
   ]
  },
  {
   "cell_type": "code",
   "execution_count": 27,
   "id": "8f3b8639",
   "metadata": {},
   "outputs": [
    {
     "data": {
      "text/plain": [
       "neighbourhood_cleansed\n",
       "Southeast Magnolia     242.571429\n",
       "Portage Bay            227.857143\n",
       "Westlake               212.800000\n",
       "West Queen Anne        190.654545\n",
       "Industrial District    187.500000\n",
       "Briarcliff             183.583333\n",
       "Montlake               182.375000\n",
       "Pioneer Square         174.000000\n",
       "Fauntleroy             173.444444\n",
       "Sunset Hill            170.933333\n",
       "Name: price, dtype: float64"
      ]
     },
     "execution_count": 27,
     "metadata": {},
     "output_type": "execute_result"
    },
    {
     "data": {
      "image/png": "[encoded data removed]",
      "text/plain": [
       "<Figure size 432x288 with 1 Axes>"
      ]
     },
     "metadata": {
      "needs_background": "light"
     },
     "output_type": "display_data"
    }
   ],
   "source": [
    "\n",
    "#Group the data by neighborhood then find the average price per room according to that grouping.\n",
    "average_neighborhood_price = listing.groupby(['neighbourhood_cleansed']).mean()['price'].sort_values(ascending=False)\n",
    "average_neighborhood_price[:10].plot(kind=\"bar\", title=\"Most Expensive Neighborhoods\", xlabel=\"Neighborhood\", ylabel=\"Average Price per Room\")\n",
    "\n",
    "average_neighborhood_price.head(10)"
   ]
  },
  {
   "cell_type": "markdown",
   "id": "aa1dcd78",
   "metadata": {},
   "source": [
    "# Question3: How much would it cost for a couple per day to stay in Seattle Airbnb homes?\n"
   ]
  },
  {
   "cell_type": "code",
   "execution_count": 28,
   "id": "9895f2aa",
   "metadata": {},
   "outputs": [
    {
     "data": {
      "text/html": [
       "<div>\n",
       "<style scoped>\n",
       "    .dataframe tbody tr th:only-of-type {\n",
       "        vertical-align: middle;\n",
       "    }\n",
       "\n",
       "    .dataframe tbody tr th {\n",
       "        vertical-align: top;\n",
       "    }\n",
       "\n",
       "    .dataframe thead th {\n",
       "        text-align: right;\n",
       "    }\n",
       "</style>\n",
       "<table border=\"1\" class=\"dataframe\">\n",
       "  <thead>\n",
       "    <tr style=\"text-align: right;\">\n",
       "      <th></th>\n",
       "      <th>0</th>\n",
       "      <th>1</th>\n",
       "      <th>2</th>\n",
       "      <th>3</th>\n",
       "      <th>4</th>\n",
       "      <th>5</th>\n",
       "      <th>6</th>\n",
       "      <th>7</th>\n",
       "      <th>8</th>\n",
       "      <th>9</th>\n",
       "      <th>10</th>\n",
       "      <th>11</th>\n",
       "      <th>12</th>\n",
       "      <th>13</th>\n",
       "      <th>14</th>\n",
       "    </tr>\n",
       "  </thead>\n",
       "  <tbody>\n",
       "    <tr>\n",
       "      <th>accommodates</th>\n",
       "      <td>1.0</td>\n",
       "      <td>2.000000</td>\n",
       "      <td>3.000000</td>\n",
       "      <td>4.000000</td>\n",
       "      <td>5.000000</td>\n",
       "      <td>6.000000</td>\n",
       "      <td>7.000000</td>\n",
       "      <td>8.000000</td>\n",
       "      <td>9.000000</td>\n",
       "      <td>10.000000</td>\n",
       "      <td>11.0</td>\n",
       "      <td>12.000000</td>\n",
       "      <td>14.000000</td>\n",
       "      <td>15.0</td>\n",
       "      <td>16.00</td>\n",
       "    </tr>\n",
       "    <tr>\n",
       "      <th>price</th>\n",
       "      <td>56.0</td>\n",
       "      <td>89.863368</td>\n",
       "      <td>112.393064</td>\n",
       "      <td>135.086207</td>\n",
       "      <td>178.652174</td>\n",
       "      <td>196.355634</td>\n",
       "      <td>206.952381</td>\n",
       "      <td>288.418367</td>\n",
       "      <td>413.636364</td>\n",
       "      <td>355.086957</td>\n",
       "      <td>975.0</td>\n",
       "      <td>345.666667</td>\n",
       "      <td>381.333333</td>\n",
       "      <td>172.0</td>\n",
       "      <td>439.75</td>\n",
       "    </tr>\n",
       "  </tbody>\n",
       "</table>\n",
       "</div>"
      ],
      "text/plain": [
       "                0          1           2           3           4           5   \\\n",
       "accommodates   1.0   2.000000    3.000000    4.000000    5.000000    6.000000   \n",
       "price         56.0  89.863368  112.393064  135.086207  178.652174  196.355634   \n",
       "\n",
       "                      6           7           8           9      10  \\\n",
       "accommodates    7.000000    8.000000    9.000000   10.000000   11.0   \n",
       "price         206.952381  288.418367  413.636364  355.086957  975.0   \n",
       "\n",
       "                      11          12     13      14  \n",
       "accommodates   12.000000   14.000000   15.0   16.00  \n",
       "price         345.666667  381.333333  172.0  439.75  "
      ]
     },
     "execution_count": 28,
     "metadata": {},
     "output_type": "execute_result"
    }
   ],
   "source": [
    "#Avergae price per day by guests_included\n",
    "listing_guest_included = listing.groupby('accommodates')['price'].mean().reset_index()\n",
    "listing_guest_included.T"
   ]
  },
  {
   "cell_type": "markdown",
   "id": "17b8926c",
   "metadata": {},
   "source": [
    "One night-stay in Airbnb Seattle would cost close to 90 dollars for a single person and 112 dollars for a couple."
   ]
  },
  {
   "cell_type": "markdown",
   "id": "38fda7b9",
   "metadata": {},
   "source": [
    "# Question4: The Most Busy time in the year?\n",
    "\n"
   ]
  },
  {
   "cell_type": "code",
   "execution_count": 29,
   "id": "6cc48fa8",
   "metadata": {},
   "outputs": [
    {
     "data": {
      "text/html": [
       "<div>\n",
       "<style scoped>\n",
       "    .dataframe tbody tr th:only-of-type {\n",
       "        vertical-align: middle;\n",
       "    }\n",
       "\n",
       "    .dataframe tbody tr th {\n",
       "        vertical-align: top;\n",
       "    }\n",
       "\n",
       "    .dataframe thead th {\n",
       "        text-align: right;\n",
       "    }\n",
       "</style>\n",
       "<table border=\"1\" class=\"dataframe\">\n",
       "  <thead>\n",
       "    <tr style=\"text-align: right;\">\n",
       "      <th></th>\n",
       "      <th>listing_id</th>\n",
       "      <th>date</th>\n",
       "      <th>available</th>\n",
       "      <th>price</th>\n",
       "      <th>month</th>\n",
       "    </tr>\n",
       "  </thead>\n",
       "  <tbody>\n",
       "    <tr>\n",
       "      <th>0</th>\n",
       "      <td>241032</td>\n",
       "      <td>2016-01-04</td>\n",
       "      <td>t</td>\n",
       "      <td>85.0</td>\n",
       "      <td>1</td>\n",
       "    </tr>\n",
       "    <tr>\n",
       "      <th>1</th>\n",
       "      <td>241032</td>\n",
       "      <td>2016-01-05</td>\n",
       "      <td>t</td>\n",
       "      <td>85.0</td>\n",
       "      <td>1</td>\n",
       "    </tr>\n",
       "    <tr>\n",
       "      <th>9</th>\n",
       "      <td>241032</td>\n",
       "      <td>2016-01-13</td>\n",
       "      <td>t</td>\n",
       "      <td>85.0</td>\n",
       "      <td>1</td>\n",
       "    </tr>\n",
       "    <tr>\n",
       "      <th>10</th>\n",
       "      <td>241032</td>\n",
       "      <td>2016-01-14</td>\n",
       "      <td>t</td>\n",
       "      <td>85.0</td>\n",
       "      <td>1</td>\n",
       "    </tr>\n",
       "    <tr>\n",
       "      <th>14</th>\n",
       "      <td>241032</td>\n",
       "      <td>2016-01-18</td>\n",
       "      <td>t</td>\n",
       "      <td>85.0</td>\n",
       "      <td>1</td>\n",
       "    </tr>\n",
       "  </tbody>\n",
       "</table>\n",
       "</div>"
      ],
      "text/plain": [
       "    listing_id        date available  price  month\n",
       "0       241032  2016-01-04         t   85.0      1\n",
       "1       241032  2016-01-05         t   85.0      1\n",
       "9       241032  2016-01-13         t   85.0      1\n",
       "10      241032  2016-01-14         t   85.0      1\n",
       "14      241032  2016-01-18         t   85.0      1"
      ]
     },
     "execution_count": 29,
     "metadata": {},
     "output_type": "execute_result"
    }
   ],
   "source": [
    "calendar['month'] = pd.DatetimeIndex(calendar['date']).month\n",
    "calendar.head()"
   ]
  },
  {
   "cell_type": "code",
   "execution_count": 30,
   "id": "d32ddfce",
   "metadata": {},
   "outputs": [
    {
     "data": {
      "image/png": "[encoded data removed]",
      "text/plain": [
       "<Figure size 1440x1080 with 1 Axes>"
      ]
     },
     "metadata": {
      "needs_background": "light"
     },
     "output_type": "display_data"
    }
   ],
   "source": [
    "calendar['date'] = pd.to_datetime(calendar['date'])\n",
    "price_date = calendar.groupby(calendar['date'].dt.strftime('%B'),sort=False)['price'].mean()\n",
    "#visualize\n",
    "price_date.plot(kind ='barh',figsize =(20,15), colormap=\"Dark2\");"
   ]
  },
  {
   "cell_type": "markdown",
   "id": "c83fd953",
   "metadata": {},
   "source": [
    "There is an upward trend in price from Feb'16 to July'16 where the average price rises to the highest which is $153 per day.\n",
    "There is a downward trend till Nov'16.\n",
    "The best time to visit Seattle is in Summers from June to August.\n",
    "A little vertical line in Jan means that there are 2 average price for 2016 and 2017: The mean price in Jan'17 is higher than Jan'16."
   ]
  },
  {
   "cell_type": "markdown",
   "id": "b9f9ff15",
   "metadata": {},
   "source": [
    "# Question5: What are the most common type of Airbnb properties in Seattle?\n"
   ]
  },
  {
   "cell_type": "code",
   "execution_count": 31,
   "id": "8d535ee9",
   "metadata": {},
   "outputs": [
    {
     "data": {
      "text/plain": [
       "House              1455\n",
       "Apartment          1425\n",
       "Townhouse            80\n",
       "Condominium          68\n",
       "Loft                 33\n",
       "Bed & Breakfast      26\n",
       "Cabin                21\n",
       "Other                19\n",
       "Camper/RV            10\n",
       "Bungalow              9\n",
       "Boat                  5\n",
       "Tent                  4\n",
       "Dorm                  2\n",
       "Chalet                2\n",
       "Treehouse             2\n",
       "Yurt                  1\n",
       "Name: property_type, dtype: int64"
      ]
     },
     "execution_count": 31,
     "metadata": {},
     "output_type": "execute_result"
    }
   ],
   "source": [
    "listing['property_type'].value_counts()"
   ]
  },
  {
   "cell_type": "code",
   "execution_count": 32,
   "id": "4057ce9a",
   "metadata": {},
   "outputs": [
    {
     "data": {
      "text/plain": [
       "Text(0.5, 0, 'Property Type')"
      ]
     },
     "execution_count": 32,
     "metadata": {},
     "output_type": "execute_result"
    },
    {
     "data": {
      "image/png": "[encoded data removed]",
      "text/plain": [
       "<Figure size 720x432 with 1 Axes>"
      ]
     },
     "metadata": {
      "needs_background": "light"
     },
     "output_type": "display_data"
    }
   ],
   "source": [
    "# plot a countplot of peoperties with hue as room_type\n",
    "plt.figure(figsize=(10,6))\n",
    "sns.countplot(x = 'property_type', data = listing,hue = 'room_type', palette= 'Blues_d',\n",
    "             order=listing.property_type.value_counts().index)\n",
    "plt.xticks(rotation=60)\n",
    "plt.legend(bbox_to_anchor = (1.05,1), loc =1, borderaxespad =3., title = 'Room Type', fontsize = 'medium')\n",
    "plt.ylabel('Number of properties', fontsize = 15, weight = 'bold')\n",
    "plt.xlabel('Property Type', fontsize = 15, weight = 'bold')\n"
   ]
  },
  {
   "cell_type": "markdown",
   "id": "2682300d",
   "metadata": {},
   "source": [
    "# Question6: Does the price influence the rating?"
   ]
  },
  {
   "cell_type": "code",
   "execution_count": 33,
   "id": "9af3b8ef",
   "metadata": {},
   "outputs": [
    {
     "data": {
      "text/html": [
       "<div>\n",
       "<style scoped>\n",
       "    .dataframe tbody tr th:only-of-type {\n",
       "        vertical-align: middle;\n",
       "    }\n",
       "\n",
       "    .dataframe tbody tr th {\n",
       "        vertical-align: top;\n",
       "    }\n",
       "\n",
       "    .dataframe thead th {\n",
       "        text-align: right;\n",
       "    }\n",
       "</style>\n",
       "<table border=\"1\" class=\"dataframe\">\n",
       "  <thead>\n",
       "    <tr style=\"text-align: right;\">\n",
       "      <th></th>\n",
       "      <th>price</th>\n",
       "      <th>review_scores_value</th>\n",
       "    </tr>\n",
       "  </thead>\n",
       "  <tbody>\n",
       "    <tr>\n",
       "      <th>0</th>\n",
       "      <td>85.0</td>\n",
       "      <td>10.0</td>\n",
       "    </tr>\n",
       "    <tr>\n",
       "      <th>1</th>\n",
       "      <td>150.0</td>\n",
       "      <td>10.0</td>\n",
       "    </tr>\n",
       "    <tr>\n",
       "      <th>2</th>\n",
       "      <td>975.0</td>\n",
       "      <td>10.0</td>\n",
       "    </tr>\n",
       "    <tr>\n",
       "      <th>4</th>\n",
       "      <td>450.0</td>\n",
       "      <td>9.0</td>\n",
       "    </tr>\n",
       "    <tr>\n",
       "      <th>5</th>\n",
       "      <td>120.0</td>\n",
       "      <td>10.0</td>\n",
       "    </tr>\n",
       "    <tr>\n",
       "      <th>6</th>\n",
       "      <td>80.0</td>\n",
       "      <td>10.0</td>\n",
       "    </tr>\n",
       "    <tr>\n",
       "      <th>7</th>\n",
       "      <td>60.0</td>\n",
       "      <td>10.0</td>\n",
       "    </tr>\n",
       "    <tr>\n",
       "      <th>8</th>\n",
       "      <td>90.0</td>\n",
       "      <td>10.0</td>\n",
       "    </tr>\n",
       "    <tr>\n",
       "      <th>9</th>\n",
       "      <td>150.0</td>\n",
       "      <td>9.0</td>\n",
       "    </tr>\n",
       "    <tr>\n",
       "      <th>10</th>\n",
       "      <td>95.0</td>\n",
       "      <td>10.0</td>\n",
       "    </tr>\n",
       "    <tr>\n",
       "      <th>11</th>\n",
       "      <td>99.0</td>\n",
       "      <td>9.0</td>\n",
       "    </tr>\n",
       "    <tr>\n",
       "      <th>12</th>\n",
       "      <td>245.0</td>\n",
       "      <td>10.0</td>\n",
       "    </tr>\n",
       "    <tr>\n",
       "      <th>13</th>\n",
       "      <td>165.0</td>\n",
       "      <td>10.0</td>\n",
       "    </tr>\n",
       "    <tr>\n",
       "      <th>14</th>\n",
       "      <td>461.0</td>\n",
       "      <td>10.0</td>\n",
       "    </tr>\n",
       "    <tr>\n",
       "      <th>15</th>\n",
       "      <td>109.0</td>\n",
       "      <td>8.0</td>\n",
       "    </tr>\n",
       "    <tr>\n",
       "      <th>16</th>\n",
       "      <td>66.0</td>\n",
       "      <td>9.0</td>\n",
       "    </tr>\n",
       "    <tr>\n",
       "      <th>17</th>\n",
       "      <td>99.0</td>\n",
       "      <td>10.0</td>\n",
       "    </tr>\n",
       "    <tr>\n",
       "      <th>19</th>\n",
       "      <td>700.0</td>\n",
       "      <td>8.0</td>\n",
       "    </tr>\n",
       "    <tr>\n",
       "      <th>20</th>\n",
       "      <td>110.0</td>\n",
       "      <td>10.0</td>\n",
       "    </tr>\n",
       "    <tr>\n",
       "      <th>21</th>\n",
       "      <td>99.0</td>\n",
       "      <td>8.0</td>\n",
       "    </tr>\n",
       "    <tr>\n",
       "      <th>22</th>\n",
       "      <td>450.0</td>\n",
       "      <td>10.0</td>\n",
       "    </tr>\n",
       "    <tr>\n",
       "      <th>24</th>\n",
       "      <td>600.0</td>\n",
       "      <td>10.0</td>\n",
       "    </tr>\n",
       "    <tr>\n",
       "      <th>25</th>\n",
       "      <td>450.0</td>\n",
       "      <td>10.0</td>\n",
       "    </tr>\n",
       "    <tr>\n",
       "      <th>27</th>\n",
       "      <td>45.0</td>\n",
       "      <td>9.0</td>\n",
       "    </tr>\n",
       "    <tr>\n",
       "      <th>28</th>\n",
       "      <td>300.0</td>\n",
       "      <td>10.0</td>\n",
       "    </tr>\n",
       "    <tr>\n",
       "      <th>29</th>\n",
       "      <td>80.0</td>\n",
       "      <td>9.0</td>\n",
       "    </tr>\n",
       "    <tr>\n",
       "      <th>30</th>\n",
       "      <td>175.0</td>\n",
       "      <td>10.0</td>\n",
       "    </tr>\n",
       "    <tr>\n",
       "      <th>31</th>\n",
       "      <td>325.0</td>\n",
       "      <td>9.0</td>\n",
       "    </tr>\n",
       "    <tr>\n",
       "      <th>32</th>\n",
       "      <td>175.0</td>\n",
       "      <td>9.0</td>\n",
       "    </tr>\n",
       "    <tr>\n",
       "      <th>33</th>\n",
       "      <td>222.0</td>\n",
       "      <td>8.0</td>\n",
       "    </tr>\n",
       "  </tbody>\n",
       "</table>\n",
       "</div>"
      ],
      "text/plain": [
       "    price  review_scores_value\n",
       "0    85.0                 10.0\n",
       "1   150.0                 10.0\n",
       "2   975.0                 10.0\n",
       "4   450.0                  9.0\n",
       "5   120.0                 10.0\n",
       "6    80.0                 10.0\n",
       "7    60.0                 10.0\n",
       "8    90.0                 10.0\n",
       "9   150.0                  9.0\n",
       "10   95.0                 10.0\n",
       "11   99.0                  9.0\n",
       "12  245.0                 10.0\n",
       "13  165.0                 10.0\n",
       "14  461.0                 10.0\n",
       "15  109.0                  8.0\n",
       "16   66.0                  9.0\n",
       "17   99.0                 10.0\n",
       "19  700.0                  8.0\n",
       "20  110.0                 10.0\n",
       "21   99.0                  8.0\n",
       "22  450.0                 10.0\n",
       "24  600.0                 10.0\n",
       "25  450.0                 10.0\n",
       "27   45.0                  9.0\n",
       "28  300.0                 10.0\n",
       "29   80.0                  9.0\n",
       "30  175.0                 10.0\n",
       "31  325.0                  9.0\n",
       "32  175.0                  9.0\n",
       "33  222.0                  8.0"
      ]
     },
     "execution_count": 33,
     "metadata": {},
     "output_type": "execute_result"
    }
   ],
   "source": [
    "listing[['price','review_scores_value']].head(30)"
   ]
  },
  {
   "cell_type": "markdown",
   "id": "18a8ab98",
   "metadata": {},
   "source": [
    "Based on the above table we can say that the price does not affect the rating"
   ]
  },
  {
   "cell_type": "markdown",
   "id": "26cd6e98",
   "metadata": {},
   "source": [
    "# Question7:The most given \"Rating\" ?"
   ]
  },
  {
   "cell_type": "code",
   "execution_count": 34,
   "id": "a9cdda14",
   "metadata": {},
   "outputs": [
    {
     "name": "stdout",
     "output_type": "stream",
     "text": [
      "10    1775\n",
      "9     1137\n",
      "8      190\n",
      "7       38\n",
      "6       16\n",
      "4        4\n",
      "2        1\n",
      "5        1\n",
      "Name: review_scores_value, dtype: int64\n"
     ]
    }
   ],
   "source": [
    "fill = lambda x : 0 if str(x) == \"nan\" else int(x)\n",
    "rating = listing[\"review_scores_value\"].apply(fill).value_counts()\n",
    "print(rating)"
   ]
  },
  {
   "cell_type": "code",
   "execution_count": 35,
   "id": "dc8d10f7",
   "metadata": {},
   "outputs": [
    {
     "data": {
      "image/png": "[encoded data removed]",
      "text/plain": [
       "<Figure size 432x288 with 1 Axes>"
      ]
     },
     "metadata": {
      "needs_background": "light"
     },
     "output_type": "display_data"
    }
   ],
   "source": [
    "#visualize\n",
    "rating_list = rating/listing.shape[0]\n",
    "rating_list.plot(kind='bar', stacked=True ,colormap='Dark2');"
   ]
  },
  {
   "cell_type": "markdown",
   "id": "285db176",
   "metadata": {},
   "source": [
    "# Question8: What other factors affect flat prices?"
   ]
  },
  {
   "cell_type": "markdown",
   "id": "90872078",
   "metadata": {},
   "source": [
    "Data Cleaning for building the model"
   ]
  },
  {
   "cell_type": "code",
   "execution_count": 36,
   "id": "8c264d4b",
   "metadata": {},
   "outputs": [],
   "source": [
    "listing1 = pd.read_csv('listings.csv')"
   ]
  },
  {
   "cell_type": "code",
   "execution_count": 37,
   "id": "9fac6b65",
   "metadata": {},
   "outputs": [
    {
     "data": {
      "text/plain": [
       "Index(['id', 'listing_url', 'scrape_id', 'last_scraped', 'name', 'summary',\n",
       "       'space', 'description', 'experiences_offered', 'neighborhood_overview',\n",
       "       'notes', 'transit', 'thumbnail_url', 'medium_url', 'picture_url',\n",
       "       'xl_picture_url', 'host_id', 'host_url', 'host_name', 'host_since',\n",
       "       'host_location', 'host_about', 'host_response_time',\n",
       "       'host_response_rate', 'host_acceptance_rate', 'host_is_superhost',\n",
       "       'host_thumbnail_url', 'host_picture_url', 'host_neighbourhood',\n",
       "       'host_listings_count', 'host_total_listings_count',\n",
       "       'host_verifications', 'host_has_profile_pic', 'host_identity_verified',\n",
       "       'street', 'neighbourhood', 'neighbourhood_cleansed',\n",
       "       'neighbourhood_group_cleansed', 'city', 'state', 'zipcode', 'market',\n",
       "       'smart_location', 'country_code', 'country', 'latitude', 'longitude',\n",
       "       'is_location_exact', 'property_type', 'room_type', 'accommodates',\n",
       "       'bathrooms', 'bedrooms', 'beds', 'bed_type', 'amenities', 'square_feet',\n",
       "       'price', 'weekly_price', 'monthly_price', 'security_deposit',\n",
       "       'cleaning_fee', 'guests_included', 'extra_people', 'minimum_nights',\n",
       "       'maximum_nights', 'calendar_updated', 'has_availability',\n",
       "       'availability_30', 'availability_60', 'availability_90',\n",
       "       'availability_365', 'calendar_last_scraped', 'number_of_reviews',\n",
       "       'first_review', 'last_review', 'review_scores_rating',\n",
       "       'review_scores_accuracy', 'review_scores_cleanliness',\n",
       "       'review_scores_checkin', 'review_scores_communication',\n",
       "       'review_scores_location', 'review_scores_value', 'requires_license',\n",
       "       'license', 'jurisdiction_names', 'instant_bookable',\n",
       "       'cancellation_policy', 'require_guest_profile_picture',\n",
       "       'require_guest_phone_verification', 'calculated_host_listings_count',\n",
       "       'reviews_per_month'],\n",
       "      dtype='object')"
      ]
     },
     "execution_count": 37,
     "metadata": {},
     "output_type": "execute_result"
    }
   ],
   "source": [
    "listing1.columns"
   ]
  },
  {
   "cell_type": "code",
   "execution_count": 38,
   "id": "e3d856a4",
   "metadata": {},
   "outputs": [
    {
     "name": "stdout",
     "output_type": "stream",
     "text": [
      "Removed 11 single value columns from listings data, Updated data has 3818 rows and 81 columns\n",
      "Removed 8 url columns from listings data, Updated data has 3818 rows and 73 columns\n",
      "Removed 2 id columns from listings data, Updated data has 3818 rows and 71 columns\n",
      "Removed 11 textual columns from listings data, Updated data has 3818 rows and 60 columns\n"
     ]
    }
   ],
   "source": [
    "'''Clean Data\n",
    "    1. remove columns containing single value as they hold no significant information\n",
    "    2. remove columns contining urls\n",
    "    3. remove columns containing ids \n",
    "    4. remove textual columns as we are not doing text mining in this notebook '''\n",
    "#check fr the single value for a categorical column\n",
    "#df_listing_cat =listing1.select_dtypes(include=['object']).copy()\n",
    "single_category = []\n",
    "drop_url_col = []\n",
    "drop_id_col= []\n",
    "drop_text_column = []\n",
    "for i in listing1.columns:\n",
    "    if len(listing1[i].unique())==1:\n",
    "        single_category.append(i)\n",
    "    elif 'url' in i:\n",
    "        drop_url_col.append(i)\n",
    "    elif '_id' in i:\n",
    "        drop_id_col.append(i)\n",
    "    elif listing1[i].dtype == np.dtype('O') and len(listing1[i].unique())>20 and listing1[i].str.contains('.{40,}[^0-9a-zA-Z,]+[A-Za-z]+', regex = True).any():\n",
    "            drop_text_column.append(i)\n",
    "# remove columns containing single value as they hold no significant information \n",
    "listing1.drop(single_category, axis=1, inplace= True)\n",
    "format_removed_columns_msg(len(single_category), \"single value\", listing1.shape[0], listing1.shape[1])\n",
    "\n",
    "#remove columns contining urls\n",
    "listing1.drop(drop_url_col, axis=1, inplace= True)\n",
    "format_removed_columns_msg(len(drop_url_col), \"url\", listing1.shape[0],listing1.shape[1])\n",
    "\n",
    "#remove columns containing ids \n",
    "listing1.drop(drop_id_col, axis=1, inplace= True)\n",
    "format_removed_columns_msg(len(drop_id_col), \"id\", listing1.shape[0], listing1.shape[1])\n",
    "\n",
    "#remove textual columns\n",
    "listing1.drop(drop_text_column, axis=1, inplace= True)\n",
    "format_removed_columns_msg(len(drop_text_column), \"textual\", listing1.shape[0], listing1.shape[1])"
   ]
  },
  {
   "cell_type": "code",
   "execution_count": 39,
   "id": "ca5fb8a5",
   "metadata": {},
   "outputs": [
    {
     "name": "stdout",
     "output_type": "stream",
     "text": [
      "Removed 20 irrelevant/duplicate columns from listings data, Updated data has 3818 rows and 40 columns\n"
     ]
    }
   ],
   "source": [
    "#Remove columns holding duplicate information and irrelevant columns\n",
    "irrelevant_cols = ['first_review', 'last_review','name','host_name' ,'city','state','zipcode','smart_location',\n",
    "                   'calendar_updated','reviews_per_month','require_guest_phone_verification','require_guest_profile_picture',\n",
    "                   'host_acceptance_rate','host_has_profile_pic','host_total_listings_count','calculated_host_listings_count',\n",
    "                   'neighbourhood_cleansed','host_neighbourhood',\n",
    "                   'neighbourhood','host_response_time']\n",
    "\n",
    "listing1.drop(irrelevant_cols, axis=1, inplace= True)\n",
    "\n",
    "format_removed_columns_msg(len(irrelevant_cols), \"irrelevant/duplicate\", listing1.shape[0], listing1.shape[1])"
   ]
  },
  {
   "cell_type": "code",
   "execution_count": 40,
   "id": "7ee004e0",
   "metadata": {},
   "outputs": [
    {
     "name": "stdout",
     "output_type": "stream",
     "text": [
      "(3818, 36)\n",
      "Removed 4  columns from listings data, Updated data has 3818 rows and 36 columns\n"
     ]
    }
   ],
   "source": [
    "#drop the columns containing more than 40% missing values\n",
    "drop_missing_values_col = list(set(listing1.columns[listing1.isna().mean() >.40]))\n",
    "listing1.drop(drop_missing_values_col, axis=1, inplace= True)\n",
    "\n",
    "print(listing1.shape)\n",
    "\n",
    "format_removed_columns_msg(len(drop_missing_values_col), \"\", listing1.shape[0], listing1.shape[1])"
   ]
  },
  {
   "cell_type": "code",
   "execution_count": 41,
   "id": "3bee26a9",
   "metadata": {},
   "outputs": [
    {
     "data": {
      "text/plain": [
       "Index(['id', 'host_since', 'host_response_rate', 'host_is_superhost',\n",
       "       'host_listings_count', 'neighbourhood_group_cleansed', 'latitude',\n",
       "       'longitude', 'is_location_exact', 'property_type', 'room_type',\n",
       "       'accommodates', 'bathrooms', 'bedrooms', 'beds', 'bed_type', 'price',\n",
       "       'cleaning_fee', 'guests_included', 'extra_people', 'minimum_nights',\n",
       "       'maximum_nights', 'availability_30', 'availability_60',\n",
       "       'availability_90', 'availability_365', 'number_of_reviews',\n",
       "       'review_scores_rating', 'review_scores_accuracy',\n",
       "       'review_scores_cleanliness', 'review_scores_checkin',\n",
       "       'review_scores_communication', 'review_scores_location',\n",
       "       'review_scores_value', 'instant_bookable', 'cancellation_policy'],\n",
       "      dtype='object')"
      ]
     },
     "execution_count": 41,
     "metadata": {},
     "output_type": "execute_result"
    }
   ],
   "source": [
    "listing1.columns"
   ]
  },
  {
   "cell_type": "code",
   "execution_count": 42,
   "id": "03587bf5",
   "metadata": {},
   "outputs": [
    {
     "name": "stdout",
     "output_type": "stream",
     "text": [
      "(934542, 39)\n",
      "(934542, 38)\n"
     ]
    }
   ],
   "source": [
    "#merge listings data with calendar data\n",
    "listing1 = listing1.rename(index=str, columns={\"id\": \"listing_id\"})\n",
    "listing1 =listing1.drop('price', axis =1)\n",
    "df = pd.merge(calendar, listing1, on = 'listing_id')\n",
    "print(df.shape)\n",
    "\n",
    "#convert date from the calendar into month and drop the date colum\n",
    "\n",
    "df['month'] = pd.to_datetime(df['date']).dt.month\n",
    "df['year'] = pd.to_datetime(df['date']).dt.year\n",
    "df = df.drop(columns = ['date'])\n",
    "\n",
    "#remove rows where price == nan, because price will be used as target column\n",
    "df = df.dropna(subset=['price'])\n",
    "\n",
    "#remove_dollar_from_price(df,'price')\n",
    "df = df.drop(columns = ['available'])\n",
    "print(df.shape)\n",
    "#Satte has a two same values - case sensitive, we can remove this col as well"
   ]
  },
  {
   "cell_type": "code",
   "execution_count": 43,
   "id": "08f42f49",
   "metadata": {},
   "outputs": [],
   "source": [
    "# convert true or false value to 1 or 0\n",
    "df['host_is_superhost'].fillna('f', inplace = True)\n",
    "dummy_cols = ['instant_bookable', \n",
    "              'is_location_exact',\n",
    "              'host_is_superhost']\n",
    "\n",
    "for col in dummy_cols:\n",
    "    df[col] = df[col].map(lambda x: 1 if x == 't' else 0)\n",
    "\n",
    "#remove null values from property type as there are only 0.03 % null values\n",
    "df['property_type'].dropna(inplace = True)\n",
    "df =df.reset_index()"
   ]
  },
  {
   "cell_type": "code",
   "execution_count": 44,
   "id": "8a7de4b5",
   "metadata": {},
   "outputs": [
    {
     "name": "stdout",
     "output_type": "stream",
     "text": [
      "Removed $ from the column cleaning_fee\n",
      "Removed $ from the column extra_people\n",
      "(934542, 73)\n"
     ]
    }
   ],
   "source": [
    "def get_host_since_year(row):\n",
    "    ''' Get year from a date represented as a string '''\n",
    "    try:\n",
    "        host_since = pd.to_numeric(row['host_since'].split('-')[0])\n",
    "    except:\n",
    "        host_since = np.nan\n",
    "    return host_since\n",
    "\n",
    "#convert host_since date into number and fill in missing values, drop the original column\n",
    "df['host_since_year'] = df.apply(lambda x: get_host_since_year(x),axis=1)\n",
    "df['host_since_year'].fillna(df['host_since_year'].mean(), inplace = True)\n",
    "df = df.drop(columns = ['host_since'])\n",
    "\n",
    "#convert host_response_rate into number and fill in missing values\n",
    "df['host_response_rate'] = df['host_response_rate'].astype(str)\n",
    "df['host_response_rate'] = df['host_response_rate'].str.replace(\"%\", \"\").astype(\"float\")\n",
    "df['host_response_rate'].fillna(df['host_response_rate'].mean(), inplace = True)\n",
    "\n",
    "#fill missing values with mean value for host_listings_count\n",
    "df['host_listings_count'].fillna(df['host_listings_count'].mean(), inplace = True)\n",
    "\n",
    "#fill in missing values for bathrooms, bedrooms and beds with mode\n",
    "mode_col = ['bathrooms','bedrooms','beds']\n",
    "for col in mode_col:\n",
    "    df[col] = df[col].fillna(df[col].mode()[0])\n",
    "\n",
    "#Remove $,% from numerical columns and fill null values\n",
    "remove_dollar_from_price(df,'cleaning_fee')\n",
    "remove_dollar_from_price(df,'extra_people')\n",
    "\n",
    "#fill in missing values of rest of the numerical columnd with mean()\n",
    "df_numeric =df.select_dtypes(include=['int64','float'])\n",
    "for col in df_numeric.columns:\n",
    "    df[col].fillna(df[col].mean(),inplace = True)\n",
    "\n",
    "#split categorical columns to dummy columns and remove the original ones\n",
    "categorical_cols =df.select_dtypes(include=['object'])\n",
    "for col in categorical_cols.columns:\n",
    "    dummies = pd.get_dummies(df[col], prefix=col, prefix_sep='_', drop_first=True)\n",
    "    df = pd.concat([df.drop(col, axis=1), dummies], axis=1)\n",
    "print(df.shape)"
   ]
  },
  {
   "cell_type": "markdown",
   "id": "fb46e0a2",
   "metadata": {},
   "source": [
    "## Plot a heat map of the pairwise correlation of numeric features including the target(price)."
   ]
  },
  {
   "cell_type": "markdown",
   "id": "b5631dab",
   "metadata": {},
   "source": [
    "The easiest way to find out if there is any relationship between features and target for doing feature selection is to get the correlation measure for every feature in the dataset.\n",
    "\n"
   ]
  },
  {
   "cell_type": "code",
   "execution_count": 45,
   "id": "bb9c8ab3",
   "metadata": {},
   "outputs": [
    {
     "data": {
      "image/png": "[encoded data removed]",
      "text/plain": [
       "<Figure size 1152x720 with 2 Axes>"
      ]
     },
     "metadata": {
      "needs_background": "light"
     },
     "output_type": "display_data"
    }
   ],
   "source": [
    "plt.figure(figsize=(16,10))\n",
    "df_num = [ 'host_response_rate','host_is_superhost',\n",
    "       'host_listings_count', 'latitude', 'longitude',\n",
    "       'accommodates', 'bathrooms', 'bedrooms', 'beds', 'cleaning_fee',\n",
    "       'guests_included', 'extra_people', 'instant_bookable',\n",
    "       'host_since_year','month', 'price']\n",
    "\n",
    "sns.heatmap(df[df_num].corr(), cbar= True, annot= True,square= True,linewidths=0.3, cmap= 'tab20c')\n",
    "plt.savefig('heatmap.png')"
   ]
  },
  {
   "cell_type": "markdown",
   "id": "df00e02e",
   "metadata": {},
   "source": [
    "The numerical features - accommodates, bedrooms, beds, cleaning fee are highly positively correlated to the price whereas host_since_year is negatively correlated.\n",
    "\n"
   ]
  },
  {
   "cell_type": "code",
   "execution_count": 46,
   "id": "76f4f74b",
   "metadata": {},
   "outputs": [
    {
     "data": {
      "text/plain": [
       "longitude             -0.111908\n",
       "host_since_year       -0.071049\n",
       "latitude              -0.034871\n",
       "instant_bookable      -0.008794\n",
       "host_response_rate     0.009569\n",
       "month                  0.041545\n",
       "host_is_superhost      0.042268\n",
       "extra_people           0.107092\n",
       "host_listings_count    0.187818\n",
       "guests_included        0.383615\n",
       "bathrooms              0.524275\n",
       "beds                   0.617077\n",
       "cleaning_fee           0.623144\n",
       "bedrooms               0.636860\n",
       "accommodates           0.685759\n",
       "price                  1.000000\n",
       "Name: price, dtype: float64"
      ]
     },
     "execution_count": 46,
     "metadata": {},
     "output_type": "execute_result"
    }
   ],
   "source": [
    "df[df_num].corr()['price'].sort_values()"
   ]
  },
  {
   "cell_type": "code",
   "execution_count": 47,
   "id": "457852a6",
   "metadata": {},
   "outputs": [
    {
     "data": {
      "text/plain": [
       "Text(0.5, -72.0, 'Numerical Features')"
      ]
     },
     "execution_count": 47,
     "metadata": {},
     "output_type": "execute_result"
    },
    {
     "data": {
      "image/png": "[encoded data removed]",
      "text/plain": [
       "<Figure size 432x288 with 1 Axes>"
      ]
     },
     "metadata": {
      "needs_background": "light"
     },
     "output_type": "display_data"
    }
   ],
   "source": [
    "#plot the correlation values of the target(price) variable:\n",
    "df[df_num].corr()['price'][:-1].sort_values().plot(kind='bar', colormap = 'tab20c')\n",
    "plt.savefig('heatmap_plot.png')\n",
    "plt.ylabel('Corrrelation value', fontsize = 15, weight = 'bold')\n",
    "plt.xlabel('Numerical Features', fontsize = 15, weight = 'bold')"
   ]
  },
  {
   "cell_type": "markdown",
   "id": "34155992",
   "metadata": {},
   "source": [
    "# Conclusion:\n",
    "\n",
    "In this analysis we tried to understand the factors affecting the booking prices with the help of Airbnb Seattle data. The above approach can be used to analyze Airbnb data for other cities as well.\n",
    "\n",
    "*Based on the number of listings in a given neighborhood, the top five most popular neighborhoods are Broadway, Belltown, Wallingford, Fremont, and Minor.\n",
    "\n",
    "*The top five most expensive neighborhoods are Southeast Magnolia, Portage Bay, Westlake, West Queen Anne, and Industrial District.\n",
    "\n",
    "*One night-stay in Airbnb Seattle would cost close to 91 dollars for a single person and 112 dollars for a couple.\n",
    "\n",
    "*Summertime is busiest so the highest price during this season.\n",
    "\n",
    "*Houses  and apartments occupy 90% of all Airbnb properties in Seattle with 1,733 houses followed by 1,708 apartments. Yurt, Dorm, and Chalet are available for Nell in Seattle.\n",
    "\n",
    "*The price does not affect the rating.\n",
    "\n",
    "*People tend to give a more high rating.\n",
    "\n",
    "*Basic configuration of the properties (number of bedrooms, bathrooms, beds and accomodates) affect the booking price.\n"
   ]
  },
  {
   "cell_type": "code",
   "execution_count": null,
   "id": "9844831d",
   "metadata": {},
   "outputs": [],
   "source": []
  }
 ],
 "metadata": {
  "kernelspec": {
   "display_name": "Python 3 (ipykernel)",
   "language": "python",
   "name": "python3"
  },
  "language_info": {
   "codemirror_mode": {
    "name": "ipython",
    "version": 3
   },
   "file_extension": ".py",
   "mimetype": "text/x-python",
   "name": "python",
   "nbconvert_exporter": "python",
   "pygments_lexer": "ipython3",
   "version": "3.9.12"
  }
 },
 "nbformat": 4,
 "nbformat_minor": 5
}
